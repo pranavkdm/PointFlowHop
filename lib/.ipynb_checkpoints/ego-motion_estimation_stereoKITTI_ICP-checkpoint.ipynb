{
 "cells": [
  {
   "cell_type": "code",
   "execution_count": 1,
   "id": "abb34783",
   "metadata": {},
   "outputs": [
    {
     "name": "stdout",
     "output_type": "stream",
     "text": [
      "Jupyter environment detected. Enabling Open3D WebVisualizer.\n",
      "[Open3D INFO] WebRTC GUI backend enabled.\n",
      "[Open3D INFO] WebRTCWindowSystem: HTTP handshake server disabled.\n"
     ]
    }
   ],
   "source": [
    "import open3d as o3d\n",
    "import pickle\n",
    "import threading\n",
    "import numpy as np\n",
    "import sklearn\n",
    "from ai import cs\n",
    "from pyntcloud import PyntCloud\n",
    "import rpointhop\n",
    "import utils\n",
    "import kitti_utils"
   ]
  },
  {
   "cell_type": "code",
   "execution_count": 2,
   "id": "fb62d9be",
   "metadata": {},
   "outputs": [],
   "source": [
    "# lidar_to_cam = np.asarray([-1.857739385241e-03, -9.999659513510e-01, -8.039975204516e-03, -4.784029760483e-03, -6.481465826011e-03, 8.051860151134e-03, -9.999466081774e-01, -7.337429464231e-02, 9.999773098287e-01, -1.805528627661e-03, -6.496203536139e-03, -3.339968064433e-01])\n",
    "# lidar_to_cam = lidar_to_cam.reshape(3,4)\n",
    "# ones = np.zeros((1,4))\n",
    "# ones[0,3] = 1\n",
    "# lidar_to_cam = np.concatenate((lidar_to_cam, ones),axis=0)\n",
    "\n",
    "lidar_to_cam = np.ones((4, 4))\n",
    "\n",
    "LOG_FOUT = open('stereoKITTI2.txt', 'a')"
   ]
  },
  {
   "cell_type": "code",
   "execution_count": 3,
   "id": "0bccaa2f",
   "metadata": {},
   "outputs": [],
   "source": [
    "def plot_consecutive_point_cloud(pc_s, pc_t):\n",
    "    pcd_s = o3d.geometry.PointCloud()\n",
    "    pcd_s.points = o3d.utility.Vector3dVector(pc_s[:, 0:3])\n",
    "    pcd_s.paint_uniform_color([1, 0, 0])\n",
    "\n",
    "    pcd_t = o3d.geometry.PointCloud()\n",
    "    pcd_t.points = o3d.utility.Vector3dVector(pc_t[:, 0:3])\n",
    "    pcd_t.paint_uniform_color([0, 1, 0])\n",
    "\n",
    "    o3d.visualization.draw_geometries([pcd_s, pcd_t])\n",
    "    \n",
    "def plot_correspondences(X,Y):\n",
    "\n",
    "    # X -> N x 3 numpy array of points\n",
    "    # Y -> N x 3 numpy array of points\n",
    "\n",
    "    points = np.concatenate((X,Y),axis=0)\n",
    "    lines = []\n",
    "    for i in range(X.shape[0]):\n",
    "        # lines.append([X.shape[0]])\n",
    "        lines.append([i, i+X.shape[0]])\n",
    "    lines = np.asarray(lines)\n",
    "    colors = [[173/255, 255/255, 47/255] for i in range(len(lines))]\n",
    "    line_set = o3d.geometry.LineSet()  \n",
    "    line_set.points = o3d.utility.Vector3dVector(points)\n",
    "    line_set.lines = o3d.utility.Vector2iVector(lines)\n",
    "    line_set.colors = o3d.utility.Vector3dVector(colors)\n",
    "\n",
    "    X_pcd = o3d.geometry.PointCloud()\n",
    "    X_pcd.points = o3d.utility.Vector3dVector(X)\n",
    "\n",
    "    Y_pcd = o3d.geometry.PointCloud()\n",
    "    Y_pcd.points = o3d.utility.Vector3dVector(Y)\n",
    "\n",
    "    X_pcd.paint_uniform_color([113/255, 121/255, 126/255])\n",
    "    Y_pcd.paint_uniform_color([196/255, 30/255, 58/255])\n",
    "\n",
    "    o3d.visualization.draw_geometries([X_pcd,Y_pcd,line_set])"
   ]
  },
  {
   "cell_type": "code",
   "execution_count": 16,
   "id": "9a846b33",
   "metadata": {},
   "outputs": [],
   "source": [
    "def get_transformation_result(pc, Rt):\n",
    "    pcd = o3d.geometry.PointCloud()\n",
    "    pcd.points = o3d.utility.Vector3dVector(pc.reshape(-1, 3))\n",
    "    pcd.transform(Rt)\n",
    "    \n",
    "    return np.asarray(pcd.points)\n",
    "\n",
    "def get_transformation_ransac(data,features,frame):\n",
    "\n",
    "    data_x = data[0]\n",
    "    data_y = data[1]\n",
    "    feature_x = features[0]\n",
    "    feature_y = features[1]\n",
    "#     plot_consecutive_point_cloud(data_x, data_y)\n",
    "    \n",
    "#     x_r, x_theta, x_phi = cs.cart2sp(data_x[:,0], data_x[:,1], data_x[:,2])\n",
    "#     y_r, y_theta, y_phi = cs.cart2sp(data_y[:,0], data_y[:,1], data_y[:,2])\n",
    "\n",
    "#     data_x_p, feature_x_p = kitti_utils.partition(data_x, feature_x, x_theta, x_phi)\n",
    "#     data_y_p, feature_y_p = kitti_utils.partition(data_y, feature_y, y_theta, y_phi)\n",
    "\n",
    "    # distances = sklearn.metrics.pairwise.euclidean_distances(feature_y_p[0],feature_x_p[0])\n",
    "    # pred = np.argmin(distances,axis=0)\n",
    "    # data_x_c = data_x_p[0]\n",
    "    # data_y_c = data_y_p[0][pred]\n",
    "#     data_x_c = np.array([])\n",
    "#     data_y_c = np.array([])\n",
    "\n",
    "#     for i in range(0, len(data_x_p)):\n",
    "#         if(feature_y_p[i].shape[0] == 0 or feature_x_p[i].shape[0] == 0):\n",
    "#             continue\n",
    "#         else:\n",
    "#             if data_x_c.shape[0] == 0:\n",
    "#                 distances = sklearn.metrics.pairwise.euclidean_distances(feature_y_p[i],feature_x_p[i])\n",
    "#                 pred = np.argmin(distances,axis=0)\n",
    "#                 data_x_c = data_x_p[i]\n",
    "#                 data_y_c = data_y_p[i][pred]\n",
    "#             else:\n",
    "#                 distances = sklearn.metrics.pairwise.euclidean_distances(feature_y_p[i],feature_x_p[i])\n",
    "#                 pred = np.argmin(distances,axis=0)\n",
    "#                 data_x_c = np.concatenate((data_x_c,data_x_p[i]), axis=0)\n",
    "#                 data_y_c = np.concatenate((data_y_c,data_y_p[i][pred]), axis=0)\n",
    "\n",
    "#     x_r, x_theta, x_phi = cs.cart2sp(data_x_c[:,0], data_x_c[:,1], data_x_c[:,2])\n",
    "#     y_r, y_theta, y_phi = cs.cart2sp(data_y_c[:,0], data_y_c[:,1], data_y_c[:,2])\n",
    "\n",
    "#     x_phi = x_phi * 180/np.pi\n",
    "#     y_phi = y_phi * 180/np.pi\n",
    "\n",
    "#     diff_phi = np.abs(x_phi-y_phi)\n",
    "#     diff_r = np.abs(x_r-y_r)\n",
    "#     data_x_c = data_x_c[np.logical_and(diff_phi<3.5,diff_r<4)]   #3.5  4\n",
    "#     data_y_c = data_y_c[np.logical_and(diff_phi<3.5,diff_r<4)]\n",
    "\n",
    "#     data_x_c_aug = np.concatenate((data_x_c, np.ones((data_x_c.shape[0],1))),axis=1)\n",
    "#     data_y_c_aug = np.concatenate((data_y_c, np.ones((data_y_c.shape[0],1))),axis=1)\n",
    "\n",
    "#     l_x = (lidar_to_cam @ data_x_c_aug.T).T\n",
    "#     l_y = (lidar_to_cam @ data_y_c_aug.T).T\n",
    "\n",
    "#     data_x_c = l_x[:,:3]\n",
    "#     data_y_c = l_y[:,:3]\n",
    "\n",
    "    distances = sklearn.metrics.pairwise.euclidean_distances(feature_y,feature_x)\n",
    "    pred = np.argmin(distances, axis=0)\n",
    "    \n",
    "    dist_sort = np.sort(distances,axis=0)\n",
    "    dist_ratio = dist_sort[0,:]/dist_sort[1,:]\n",
    "    min_dist = np.min(distances,axis=0)\n",
    "    ordered = np.argsort(min_dist)\n",
    "    \n",
    "    pred = pred[ordered[:384]]\n",
    "    data_x = data_x[ordered[:384]]\n",
    "    dist_ratio = dist_ratio[ordered[:384]]\n",
    "\n",
    "    dist_ratio_ord = np.argsort(dist_ratio)\n",
    "    pred = pred[dist_ratio_ord[:256]]\n",
    "    data_x_c = data_x[dist_ratio_ord[:256]]\n",
    "\n",
    "    sort = []\n",
    "    for i in range(256):\n",
    "        sort.append(data_y[pred[i]])\n",
    "    data_y_c = np.array(sort)\n",
    "    \n",
    "#     plot_correspondences(data_x_c, data_y_c)\n",
    "\n",
    "    vec = np.expand_dims(np.arange(data_x_c.shape[0]), 1)\n",
    "    vec = np.concatenate((vec,vec),axis=1)\n",
    "    vect = o3d.utility.Vector2iVector(vec)\n",
    "\n",
    "    data_x_c1 = o3d.geometry.PointCloud()\n",
    "    data_x_c1.points = o3d.utility.Vector3dVector(data_x_c)\n",
    "\n",
    "    data_y_c1 = o3d.geometry.PointCloud()\n",
    "    data_y_c1.points = o3d.utility.Vector3dVector(data_y_c)\n",
    "\n",
    "    result = o3d.pipelines.registration.registration_ransac_based_on_correspondence(data_x_c1, data_y_c1, vect, 0.1)\n",
    "\n",
    "    Rt = result.transformation\n",
    "\n",
    "    kitti_utils.log_matrix(frame, Rt, LOG_FOUT)\n",
    "\n",
    "    return Rt"
   ]
  },
  {
   "cell_type": "code",
   "execution_count": 17,
   "id": "c2905e6d",
   "metadata": {},
   "outputs": [
    {
     "name": "stdout",
     "output_type": "stream",
     "text": [
      "0\n",
      "1\n",
      "2\n",
      "3\n",
      "4\n"
     ]
    },
    {
     "name": "stderr",
     "output_type": "stream",
     "text": [
      "D:\\jiahaogu\\anaconda3\\lib\\site-packages\\pyntcloud\\scalar_fields\\eigenvalues.py:50: RuntimeWarning: divide by zero encountered in log\n",
      "  result += ev[:, i] * np.log(ev[:, i])\n",
      "D:\\jiahaogu\\anaconda3\\lib\\site-packages\\pyntcloud\\scalar_fields\\eigenvalues.py:50: RuntimeWarning: invalid value encountered in multiply\n",
      "  result += ev[:, i] * np.log(ev[:, i])\n"
     ]
    },
    {
     "name": "stdout",
     "output_type": "stream",
     "text": [
      "5\n",
      "6\n",
      "7\n",
      "8\n",
      "9\n",
      "10\n",
      "11\n",
      "12\n"
     ]
    },
    {
     "name": "stderr",
     "output_type": "stream",
     "text": [
      "D:\\jiahaogu\\anaconda3\\lib\\site-packages\\pyntcloud\\scalar_fields\\eigenvalues.py:50: RuntimeWarning: divide by zero encountered in log\n",
      "  result += ev[:, i] * np.log(ev[:, i])\n",
      "D:\\jiahaogu\\anaconda3\\lib\\site-packages\\pyntcloud\\scalar_fields\\eigenvalues.py:50: RuntimeWarning: invalid value encountered in multiply\n",
      "  result += ev[:, i] * np.log(ev[:, i])\n"
     ]
    },
    {
     "name": "stdout",
     "output_type": "stream",
     "text": [
      "13\n",
      "14\n",
      "15\n",
      "16\n"
     ]
    },
    {
     "name": "stderr",
     "output_type": "stream",
     "text": [
      "D:\\Temp\\ipykernel_13236\\745305032.py:68: RuntimeWarning: invalid value encountered in true_divide\n",
      "  dist_ratio = dist_sort[0,:]/dist_sort[1,:]\n"
     ]
    },
    {
     "name": "stdout",
     "output_type": "stream",
     "text": [
      "17\n",
      "18\n",
      "19\n",
      "20\n",
      "21\n",
      "22\n",
      "23\n",
      "24\n",
      "25\n",
      "26\n",
      "27\n",
      "28\n",
      "29\n"
     ]
    },
    {
     "name": "stderr",
     "output_type": "stream",
     "text": [
      "D:\\jiahaogu\\anaconda3\\lib\\site-packages\\pyntcloud\\scalar_fields\\eigenvalues.py:50: RuntimeWarning: divide by zero encountered in log\n",
      "  result += ev[:, i] * np.log(ev[:, i])\n",
      "D:\\jiahaogu\\anaconda3\\lib\\site-packages\\pyntcloud\\scalar_fields\\eigenvalues.py:50: RuntimeWarning: invalid value encountered in multiply\n",
      "  result += ev[:, i] * np.log(ev[:, i])\n"
     ]
    },
    {
     "name": "stdout",
     "output_type": "stream",
     "text": [
      "30\n",
      "31\n",
      "32\n",
      "33\n"
     ]
    },
    {
     "name": "stderr",
     "output_type": "stream",
     "text": [
      "D:\\jiahaogu\\anaconda3\\lib\\site-packages\\pyntcloud\\scalar_fields\\eigenvalues.py:50: RuntimeWarning: divide by zero encountered in log\n",
      "  result += ev[:, i] * np.log(ev[:, i])\n",
      "D:\\jiahaogu\\anaconda3\\lib\\site-packages\\pyntcloud\\scalar_fields\\eigenvalues.py:50: RuntimeWarning: invalid value encountered in multiply\n",
      "  result += ev[:, i] * np.log(ev[:, i])\n",
      "D:\\jiahaogu\\anaconda3\\lib\\site-packages\\pyntcloud\\scalar_fields\\eigenvalues.py:50: RuntimeWarning: divide by zero encountered in log\n",
      "  result += ev[:, i] * np.log(ev[:, i])\n",
      "D:\\jiahaogu\\anaconda3\\lib\\site-packages\\pyntcloud\\scalar_fields\\eigenvalues.py:50: RuntimeWarning: invalid value encountered in multiply\n",
      "  result += ev[:, i] * np.log(ev[:, i])\n"
     ]
    },
    {
     "name": "stdout",
     "output_type": "stream",
     "text": [
      "34\n",
      "35\n",
      "36\n",
      "37\n",
      "38\n"
     ]
    },
    {
     "name": "stderr",
     "output_type": "stream",
     "text": [
      "D:\\jiahaogu\\anaconda3\\lib\\site-packages\\pyntcloud\\scalar_fields\\eigenvalues.py:50: RuntimeWarning: divide by zero encountered in log\n",
      "  result += ev[:, i] * np.log(ev[:, i])\n",
      "D:\\jiahaogu\\anaconda3\\lib\\site-packages\\pyntcloud\\scalar_fields\\eigenvalues.py:50: RuntimeWarning: invalid value encountered in multiply\n",
      "  result += ev[:, i] * np.log(ev[:, i])\n",
      "D:\\jiahaogu\\anaconda3\\lib\\site-packages\\pyntcloud\\scalar_fields\\eigenvalues.py:50: RuntimeWarning: divide by zero encountered in log\n",
      "  result += ev[:, i] * np.log(ev[:, i])\n",
      "D:\\jiahaogu\\anaconda3\\lib\\site-packages\\pyntcloud\\scalar_fields\\eigenvalues.py:50: RuntimeWarning: invalid value encountered in multiply\n",
      "  result += ev[:, i] * np.log(ev[:, i])\n"
     ]
    },
    {
     "name": "stdout",
     "output_type": "stream",
     "text": [
      "39\n",
      "40\n"
     ]
    },
    {
     "name": "stderr",
     "output_type": "stream",
     "text": [
      "D:\\jiahaogu\\anaconda3\\lib\\site-packages\\pyntcloud\\scalar_fields\\eigenvalues.py:50: RuntimeWarning: divide by zero encountered in log\n",
      "  result += ev[:, i] * np.log(ev[:, i])\n",
      "D:\\jiahaogu\\anaconda3\\lib\\site-packages\\pyntcloud\\scalar_fields\\eigenvalues.py:50: RuntimeWarning: invalid value encountered in multiply\n",
      "  result += ev[:, i] * np.log(ev[:, i])\n",
      "D:\\jiahaogu\\anaconda3\\lib\\site-packages\\pyntcloud\\scalar_fields\\eigenvalues.py:50: RuntimeWarning: divide by zero encountered in log\n",
      "  result += ev[:, i] * np.log(ev[:, i])\n",
      "D:\\jiahaogu\\anaconda3\\lib\\site-packages\\pyntcloud\\scalar_fields\\eigenvalues.py:50: RuntimeWarning: invalid value encountered in multiply\n",
      "  result += ev[:, i] * np.log(ev[:, i])\n"
     ]
    },
    {
     "name": "stdout",
     "output_type": "stream",
     "text": [
      "41\n",
      "42\n"
     ]
    },
    {
     "name": "stderr",
     "output_type": "stream",
     "text": [
      "D:\\Temp\\ipykernel_13236\\745305032.py:68: RuntimeWarning: invalid value encountered in true_divide\n",
      "  dist_ratio = dist_sort[0,:]/dist_sort[1,:]\n"
     ]
    },
    {
     "name": "stdout",
     "output_type": "stream",
     "text": [
      "43\n"
     ]
    },
    {
     "name": "stderr",
     "output_type": "stream",
     "text": [
      "D:\\Temp\\ipykernel_13236\\745305032.py:68: RuntimeWarning: invalid value encountered in true_divide\n",
      "  dist_ratio = dist_sort[0,:]/dist_sort[1,:]\n"
     ]
    },
    {
     "name": "stdout",
     "output_type": "stream",
     "text": [
      "44\n",
      "45\n"
     ]
    },
    {
     "name": "stderr",
     "output_type": "stream",
     "text": [
      "D:\\Temp\\ipykernel_13236\\745305032.py:68: RuntimeWarning: invalid value encountered in true_divide\n",
      "  dist_ratio = dist_sort[0,:]/dist_sort[1,:]\n",
      "D:\\Temp\\ipykernel_13236\\745305032.py:68: RuntimeWarning: invalid value encountered in true_divide\n",
      "  dist_ratio = dist_sort[0,:]/dist_sort[1,:]\n"
     ]
    },
    {
     "name": "stdout",
     "output_type": "stream",
     "text": [
      "46\n"
     ]
    },
    {
     "name": "stderr",
     "output_type": "stream",
     "text": [
      "D:\\Temp\\ipykernel_13236\\745305032.py:68: RuntimeWarning: invalid value encountered in true_divide\n",
      "  dist_ratio = dist_sort[0,:]/dist_sort[1,:]\n"
     ]
    },
    {
     "name": "stdout",
     "output_type": "stream",
     "text": [
      "47\n"
     ]
    },
    {
     "name": "stderr",
     "output_type": "stream",
     "text": [
      "D:\\Temp\\ipykernel_13236\\745305032.py:68: RuntimeWarning: invalid value encountered in true_divide\n",
      "  dist_ratio = dist_sort[0,:]/dist_sort[1,:]\n"
     ]
    },
    {
     "name": "stdout",
     "output_type": "stream",
     "text": [
      "48\n"
     ]
    },
    {
     "name": "stderr",
     "output_type": "stream",
     "text": [
      "D:\\Temp\\ipykernel_13236\\745305032.py:68: RuntimeWarning: invalid value encountered in true_divide\n",
      "  dist_ratio = dist_sort[0,:]/dist_sort[1,:]\n"
     ]
    },
    {
     "name": "stdout",
     "output_type": "stream",
     "text": [
      "49\n"
     ]
    },
    {
     "name": "stderr",
     "output_type": "stream",
     "text": [
      "D:\\Temp\\ipykernel_13236\\745305032.py:68: RuntimeWarning: invalid value encountered in true_divide\n",
      "  dist_ratio = dist_sort[0,:]/dist_sort[1,:]\n"
     ]
    },
    {
     "name": "stdout",
     "output_type": "stream",
     "text": [
      "50\n"
     ]
    },
    {
     "name": "stderr",
     "output_type": "stream",
     "text": [
      "D:\\Temp\\ipykernel_13236\\745305032.py:68: RuntimeWarning: invalid value encountered in true_divide\n",
      "  dist_ratio = dist_sort[0,:]/dist_sort[1,:]\n"
     ]
    },
    {
     "name": "stdout",
     "output_type": "stream",
     "text": [
      "51\n"
     ]
    },
    {
     "name": "stderr",
     "output_type": "stream",
     "text": [
      "D:\\Temp\\ipykernel_13236\\745305032.py:68: RuntimeWarning: invalid value encountered in true_divide\n",
      "  dist_ratio = dist_sort[0,:]/dist_sort[1,:]\n"
     ]
    },
    {
     "name": "stdout",
     "output_type": "stream",
     "text": [
      "52\n"
     ]
    },
    {
     "name": "stderr",
     "output_type": "stream",
     "text": [
      "D:\\Temp\\ipykernel_13236\\745305032.py:68: RuntimeWarning: invalid value encountered in true_divide\n",
      "  dist_ratio = dist_sort[0,:]/dist_sort[1,:]\n"
     ]
    },
    {
     "name": "stdout",
     "output_type": "stream",
     "text": [
      "53\n",
      "54\n",
      "55\n",
      "56\n",
      "57\n",
      "58\n",
      "59\n",
      "60\n",
      "61\n",
      "62\n",
      "63\n",
      "64\n",
      "65\n",
      "66\n",
      "67\n",
      "68\n",
      "69\n",
      "70\n",
      "71\n",
      "72\n",
      "73\n",
      "74\n",
      "75\n",
      "76\n",
      "77\n",
      "78\n",
      "79\n",
      "80\n",
      "81\n",
      "82\n",
      "83\n",
      "84\n",
      "85\n",
      "86\n",
      "87\n",
      "88\n"
     ]
    },
    {
     "name": "stderr",
     "output_type": "stream",
     "text": [
      "D:\\Temp\\ipykernel_13236\\745305032.py:68: RuntimeWarning: invalid value encountered in true_divide\n",
      "  dist_ratio = dist_sort[0,:]/dist_sort[1,:]\n"
     ]
    },
    {
     "name": "stdout",
     "output_type": "stream",
     "text": [
      "89\n",
      "90\n"
     ]
    },
    {
     "name": "stderr",
     "output_type": "stream",
     "text": [
      "D:\\Temp\\ipykernel_13236\\745305032.py:68: RuntimeWarning: invalid value encountered in true_divide\n",
      "  dist_ratio = dist_sort[0,:]/dist_sort[1,:]\n"
     ]
    },
    {
     "name": "stdout",
     "output_type": "stream",
     "text": [
      "91\n"
     ]
    },
    {
     "name": "stderr",
     "output_type": "stream",
     "text": [
      "D:\\Temp\\ipykernel_13236\\745305032.py:68: RuntimeWarning: invalid value encountered in true_divide\n",
      "  dist_ratio = dist_sort[0,:]/dist_sort[1,:]\n"
     ]
    },
    {
     "name": "stdout",
     "output_type": "stream",
     "text": [
      "92\n"
     ]
    },
    {
     "name": "stderr",
     "output_type": "stream",
     "text": [
      "D:\\Temp\\ipykernel_13236\\745305032.py:68: RuntimeWarning: invalid value encountered in true_divide\n",
      "  dist_ratio = dist_sort[0,:]/dist_sort[1,:]\n"
     ]
    },
    {
     "name": "stdout",
     "output_type": "stream",
     "text": [
      "93\n"
     ]
    },
    {
     "name": "stderr",
     "output_type": "stream",
     "text": [
      "D:\\Temp\\ipykernel_13236\\745305032.py:68: RuntimeWarning: invalid value encountered in true_divide\n",
      "  dist_ratio = dist_sort[0,:]/dist_sort[1,:]\n"
     ]
    },
    {
     "name": "stdout",
     "output_type": "stream",
     "text": [
      "94\n"
     ]
    },
    {
     "name": "stderr",
     "output_type": "stream",
     "text": [
      "D:\\Temp\\ipykernel_13236\\745305032.py:68: RuntimeWarning: invalid value encountered in true_divide\n",
      "  dist_ratio = dist_sort[0,:]/dist_sort[1,:]\n"
     ]
    },
    {
     "name": "stdout",
     "output_type": "stream",
     "text": [
      "95\n"
     ]
    },
    {
     "name": "stderr",
     "output_type": "stream",
     "text": [
      "D:\\Temp\\ipykernel_13236\\745305032.py:68: RuntimeWarning: invalid value encountered in true_divide\n",
      "  dist_ratio = dist_sort[0,:]/dist_sort[1,:]\n"
     ]
    },
    {
     "name": "stdout",
     "output_type": "stream",
     "text": [
      "96\n"
     ]
    },
    {
     "name": "stderr",
     "output_type": "stream",
     "text": [
      "D:\\Temp\\ipykernel_13236\\745305032.py:68: RuntimeWarning: invalid value encountered in true_divide\n",
      "  dist_ratio = dist_sort[0,:]/dist_sort[1,:]\n"
     ]
    },
    {
     "name": "stdout",
     "output_type": "stream",
     "text": [
      "97\n",
      "98\n",
      "99\n",
      "100\n",
      "101\n",
      "102\n",
      "103\n",
      "104\n",
      "105\n",
      "106\n",
      "107\n",
      "108\n"
     ]
    },
    {
     "name": "stderr",
     "output_type": "stream",
     "text": [
      "D:\\jiahaogu\\anaconda3\\lib\\site-packages\\pyntcloud\\scalar_fields\\eigenvalues.py:50: RuntimeWarning: divide by zero encountered in log\n",
      "  result += ev[:, i] * np.log(ev[:, i])\n",
      "D:\\jiahaogu\\anaconda3\\lib\\site-packages\\pyntcloud\\scalar_fields\\eigenvalues.py:50: RuntimeWarning: invalid value encountered in multiply\n",
      "  result += ev[:, i] * np.log(ev[:, i])\n",
      "D:\\jiahaogu\\anaconda3\\lib\\site-packages\\pyntcloud\\scalar_fields\\eigenvalues.py:50: RuntimeWarning: divide by zero encountered in log\n",
      "  result += ev[:, i] * np.log(ev[:, i])\n",
      "D:\\jiahaogu\\anaconda3\\lib\\site-packages\\pyntcloud\\scalar_fields\\eigenvalues.py:50: RuntimeWarning: invalid value encountered in multiply\n",
      "  result += ev[:, i] * np.log(ev[:, i])\n"
     ]
    },
    {
     "name": "stdout",
     "output_type": "stream",
     "text": [
      "109\n",
      "110\n",
      "111\n"
     ]
    },
    {
     "name": "stderr",
     "output_type": "stream",
     "text": [
      "D:\\Temp\\ipykernel_13236\\745305032.py:68: RuntimeWarning: invalid value encountered in true_divide\n",
      "  dist_ratio = dist_sort[0,:]/dist_sort[1,:]\n"
     ]
    },
    {
     "name": "stdout",
     "output_type": "stream",
     "text": [
      "112\n"
     ]
    },
    {
     "name": "stderr",
     "output_type": "stream",
     "text": [
      "D:\\Temp\\ipykernel_13236\\745305032.py:68: RuntimeWarning: invalid value encountered in true_divide\n",
      "  dist_ratio = dist_sort[0,:]/dist_sort[1,:]\n"
     ]
    },
    {
     "name": "stdout",
     "output_type": "stream",
     "text": [
      "113\n"
     ]
    },
    {
     "name": "stderr",
     "output_type": "stream",
     "text": [
      "D:\\Temp\\ipykernel_13236\\745305032.py:68: RuntimeWarning: invalid value encountered in true_divide\n",
      "  dist_ratio = dist_sort[0,:]/dist_sort[1,:]\n"
     ]
    },
    {
     "name": "stdout",
     "output_type": "stream",
     "text": [
      "114\n",
      "115\n",
      "116\n",
      "117\n",
      "118\n",
      "119\n",
      "120\n",
      "121\n",
      "122\n",
      "123\n",
      "124\n",
      "125\n",
      "126\n",
      "127\n",
      "128\n",
      "129\n",
      "130\n",
      "131\n",
      "132\n",
      "133\n",
      "134\n",
      "135\n",
      "136\n",
      "137\n",
      "138\n",
      "139\n",
      "140\n",
      "141\n",
      "142\n",
      "143\n"
     ]
    },
    {
     "name": "stderr",
     "output_type": "stream",
     "text": [
      "D:\\jiahaogu\\anaconda3\\lib\\site-packages\\pyntcloud\\scalar_fields\\eigenvalues.py:50: RuntimeWarning: divide by zero encountered in log\n",
      "  result += ev[:, i] * np.log(ev[:, i])\n",
      "D:\\jiahaogu\\anaconda3\\lib\\site-packages\\pyntcloud\\scalar_fields\\eigenvalues.py:50: RuntimeWarning: invalid value encountered in multiply\n",
      "  result += ev[:, i] * np.log(ev[:, i])\n",
      "D:\\jiahaogu\\anaconda3\\lib\\site-packages\\pyntcloud\\scalar_fields\\eigenvalues.py:50: RuntimeWarning: divide by zero encountered in log\n",
      "  result += ev[:, i] * np.log(ev[:, i])\n",
      "D:\\jiahaogu\\anaconda3\\lib\\site-packages\\pyntcloud\\scalar_fields\\eigenvalues.py:50: RuntimeWarning: invalid value encountered in multiply\n",
      "  result += ev[:, i] * np.log(ev[:, i])\n"
     ]
    },
    {
     "name": "stdout",
     "output_type": "stream",
     "text": [
      "144\n",
      "145\n",
      "146\n",
      "147\n",
      "148\n",
      "149\n",
      "150\n",
      "151\n",
      "152\n",
      "153\n",
      "154\n",
      "155\n"
     ]
    },
    {
     "name": "stderr",
     "output_type": "stream",
     "text": [
      "D:\\Temp\\ipykernel_13236\\745305032.py:68: RuntimeWarning: invalid value encountered in true_divide\n",
      "  dist_ratio = dist_sort[0,:]/dist_sort[1,:]\n"
     ]
    },
    {
     "name": "stdout",
     "output_type": "stream",
     "text": [
      "156\n",
      "157\n",
      "158\n",
      "159\n",
      "160\n",
      "161\n",
      "162\n"
     ]
    },
    {
     "name": "stderr",
     "output_type": "stream",
     "text": [
      "D:\\jiahaogu\\anaconda3\\lib\\site-packages\\pyntcloud\\scalar_fields\\eigenvalues.py:50: RuntimeWarning: divide by zero encountered in log\n",
      "  result += ev[:, i] * np.log(ev[:, i])\n",
      "D:\\jiahaogu\\anaconda3\\lib\\site-packages\\pyntcloud\\scalar_fields\\eigenvalues.py:50: RuntimeWarning: invalid value encountered in multiply\n",
      "  result += ev[:, i] * np.log(ev[:, i])\n"
     ]
    },
    {
     "name": "stdout",
     "output_type": "stream",
     "text": [
      "163\n",
      "164\n",
      "165\n",
      "166\n",
      "167\n",
      "168\n",
      "169\n",
      "170\n",
      "171\n",
      "172\n",
      "173\n",
      "174\n",
      "175\n",
      "176\n",
      "177\n",
      "178\n",
      "179\n",
      "180\n",
      "181\n",
      "182\n",
      "183\n",
      "184\n",
      "185\n",
      "186\n",
      "187\n",
      "188\n",
      "189\n",
      "190\n",
      "191\n",
      "192\n",
      "193\n",
      "194\n",
      "195\n",
      "196\n",
      "197\n",
      "198\n",
      "199\n"
     ]
    }
   ],
   "source": [
    "with open('pointhop.pkl', 'rb') as f:\n",
    "    params = pickle.load(f, encoding='latin')\n",
    "# T_total = np.eye(4)\n",
    "# T_total = np.array([1.000000e+00, 1.197625e-11, 1.704638e-10, 1.665335e-16, 1.197625e-11, 1.000000e+00, 3.562503e-10, -1.110223e-16, 1.704638e-10, 3.562503e-10, 1.000000e+00, 2.220446e-16, 0, 0, 0, 1])\n",
    "# T_total = T_total.reshape(4,4)\n",
    "# kitti_utils.log_matrix(0, T_total, LOG_FOUT)\n",
    "\n",
    "for i in range(200):\n",
    "    path = '\\\\Workspace\\\\SceneFlow\\\\datasets\\\\stereo_kitti\\\\'+str(i).zfill(6)+'.npz'\n",
    "    pc_data = np.load(path)\n",
    "#     data_x = pc_data['pos1']\n",
    "#     data_y = pc_data['pos2']\n",
    "    data_x = pc_data['pc1']\n",
    "    data_y = pc_data['pc2']\n",
    "    \n",
    "    attribute_0, data_0 = kitti_utils.attribute(data_x)\n",
    "    attribute_1, data_1 = kitti_utils.attribute(data_y)\n",
    "    attribute_h = np.concatenate((attribute_0, attribute_1), axis=0)\n",
    "    data = np.concatenate((data_0, data_1), axis=0)\n",
    "\n",
    "    leaf_node = rpointhop.pointhop_pred(data, attribute_h, pca_params=params, n_sample=[36,8,16])\n",
    "    features = np.moveaxis(np.squeeze(np.asarray(leaf_node)), 0, 2)\n",
    "    Rt = get_transformation_ransac(data, features, i)\n",
    "    \n",
    "#     data_x_w = get_transformation_result(data_x, Rt)\n",
    "#     plot_consecutive_point_cloud(data_x_w, data_y)\n",
    "    print(i)"
   ]
  },
  {
   "cell_type": "code",
   "execution_count": null,
   "id": "f026a9d6",
   "metadata": {},
   "outputs": [],
   "source": []
  }
 ],
 "metadata": {
  "kernelspec": {
   "display_name": "Python 3 (ipykernel)",
   "language": "python",
   "name": "python3"
  },
  "language_info": {
   "codemirror_mode": {
    "name": "ipython",
    "version": 3
   },
   "file_extension": ".py",
   "mimetype": "text/x-python",
   "name": "python",
   "nbconvert_exporter": "python",
   "pygments_lexer": "ipython3",
   "version": "3.9.12"
  }
 },
 "nbformat": 4,
 "nbformat_minor": 5
}
